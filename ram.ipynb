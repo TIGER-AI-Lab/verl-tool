{
 "cells": [
  {
   "cell_type": "code",
   "execution_count": 5,
   "id": "351347d4",
   "metadata": {},
   "outputs": [
    {
     "data": {
      "text/plain": [
       "{'id': 0,\n",
       " 'problem': 'Hard: Maximum Sum of Non-Overlapping Subarrays With Custom Step\\n\\nYou are given an integer array nums of length n and an integer step (1 <= step <= n). You are allowed to select any number of non-overlapping subarrays, each of length exactly step, such that no two selected subarrays overlap. The subarrays must start at indices i where i mod step == 0 (i.e., only at positions that are multiples of step).\\n\\nYour task is to maximize the sum of all elements from the selected subarrays.\\n\\nInput:\\n- nums: List[int] (1 <= len(nums) <= 10^5, -10^9 <= nums[i] <= 10^9)\\n- step: int (1 <= step <= len(nums))\\n\\nOutput:\\n- Return the maximum possible sum obtainable by selecting any number of non-overlapping subarrays of length step starting at valid positions.\\n\\nExample 1:\\nInput: nums = [1, 2, 3, 4, 5, 6], step = 2\\nOutput: 14\\nExplanation: The valid starting indices are 0, 2, 4. The subarrays are [1,2], [3,4], [5,6]. Taking all three gives 1+2+3+4+5+6=21. But you may skip [1,2] to get [3,4] + [5,6] = 3+4+5+6=18, but 21 is better. So the answer is 21.\\n\\nExample 2:\\nInput: nums = [-5, 4, 3, -2, 6, -1], step = 3\\nOutput: 7\\nExplanation: Valid starting indices are 0 and 3. Subarrays: [-5,4,3] and [-2,6,-1]. The first sums to 2, second to 3. Taking both gives 5, but taking only the second gives 3. The best is to take both, so answer is 5.\\n\\nExample 3:\\nInput: nums = [2, -1, 2, -1, 2, -1, 2], step = 2\\nOutput: 4\\nExplanation: Valid starting indices: 0,2,4. Subarrays: [2,-1],[2,-1],[2,-1]. Each sums to 1. Taking all gives 3, but skipping some may give a better sum. But here, taking all is optimal: 1+1+1=3.\\n\\nNote:\\n- You may select any subset of the valid subarrays (even none).\\n- Subarrays must not overlap.\\n- The starting indices of subarrays are 0, step, 2*step, ..., as long as the subarray fits in nums.\\n- Return the maximal sum possible.',\n",
       " 'tests': ['assert max_sum_subarrays([1,2,3,4,5,6], 2) == 21',\n",
       "  'assert max_sum_subarrays([-5,4,3,-2,6,-1], 3) == 5',\n",
       "  'assert max_sum_subarrays([2,-1,2,-1,2,-1,2], 2) == 3',\n",
       "  'assert max_sum_subarrays([10,-10,10,-10,10], 1) == 30',\n",
       "  'assert max_sum_subarrays([1,2,3,4,5], 5) == 15',\n",
       "  'assert max_sum_subarrays([-1,-2,-3,-4,-5], 2) == 0',\n",
       "  'assert max_sum_subarrays([100], 1) == 100',\n",
       "  'assert max_sum_subarrays([1,2,3,4,5,6,7,8,9,10], 5) == 40',\n",
       "  'assert max_sum_subarrays([1,2,3,4,5,6,7,8,9,10], 10) == 55',\n",
       "  'assert max_sum_subarrays([1,-2,3,-4,5,-6,7,-8,9,-10], 2) == 10',\n",
       "  'assert max_sum_subarrays([5, -1, 5, -1, 5, -1, 5], 3) == 15',\n",
       "  'assert max_sum_subarrays([1]*100, 10) == 100',\n",
       "  'assert max_sum_subarrays([-1]*100, 10) == 0',\n",
       "  'assert max_sum_subarrays([0,0,0,0,0], 1) == 0',\n",
       "  'assert max_sum_subarrays([2,4,6,8,10,12], 2) == 42',\n",
       "  'assert max_sum_subarrays([2,4,6,8,10,12], 3) == 42',\n",
       "  'assert max_sum_subarrays([2,4,6,8,10,12], 6) == 42',\n",
       "  'assert max_sum_subarrays([100,-100,100,-100,100,-100], 2) == 0',\n",
       "  'assert max_sum_subarrays([3,1,4,1,5,9,2,6,5], 3) == 30',\n",
       "  'assert max_sum_subarrays([7, 8, 9, 10, -100, 20, 30, 40], 4) == 97'],\n",
       " 'metadata': {'experiment_round': 'unknown',\n",
       "  'model_name': 'unknown',\n",
       "  'step_type': 'unknown',\n",
       "  'source_file': '',\n",
       "  'num_tests': 20,\n",
       "  'content_type': 'generated',\n",
       "  'has_generated_problem': True,\n",
       "  'has_synthesis_result': True,\n",
       "  'num_programs': 1,\n",
       "  'eval_stats': {'num_programs_evaluated': 51,\n",
       "   'avg_pass_rate': 0.6362745098039216,\n",
       "   'max_pass_rate': 0.75}}}"
      ]
     },
     "execution_count": 5,
     "metadata": {},
     "output_type": "execute_result"
    }
   ],
   "source": [
    "import os\n",
    "from typing import List, Any, Dict\n",
    "import json\n",
    "def load_jsonl(file_path: str) -> List[Dict[Any, Any]]:\n",
    "    \"\"\"load a .jsonl file. Return a List of dictionary, where each dictionary is a line in the file\"\"\"\n",
    "    if not os.path.exists(file_path):\n",
    "        raise Exception(f\"{file_path} Does not exist!!!!\")\n",
    "    with open(file_path, \"r\") as f:\n",
    "        lst = f.readlines()\n",
    "    output = [json.loads(i) for i in lst]\n",
    "    return output\n",
    "lst = load_jsonl(\"problems_merged.jsonl\")\n",
    "lst[0]"
   ]
  },
  {
   "cell_type": "code",
   "execution_count": null,
   "id": "b9e7b3f8",
   "metadata": {},
   "outputs": [],
   "source": [
    "import json\n",
    "def data_entry_to_label_studio_entry(entry):\n",
    "    test_case_status_str = \"\"\n",
    "    for i, test in enumerate(entry[\"tests\"]):\n",
    "        test_case_status_str += f\"{i}: {test}\\n\"\n",
    "    out = {\n",
    "        \"data\": {\n",
    "            \"custom_id\": \"ping_v1_\" + str(entry[\"id\"]),\n",
    "            \"meta_data\": json.dumps(entry[\"metadata\"], indent=2),\n",
    "            \"question\": entry[\"problem\"],\n",
    "            \"test_cases\": test_case_status_str\n",
    "\n",
    "        }\n",
    "    }\n",
    "    return out\n",
    "\n",
    "\n",
    "out = [data_entry_to_label_studio_entry(i) for i in lst[:100]]\n",
    "with open(\"label_studio_annotation.json\", \"w\") as f:\n",
    "    f.write(json.dumps(out, indent=4))\n"
   ]
  }
 ],
 "metadata": {
  "kernelspec": {
   "display_name": ".venv",
   "language": "python",
   "name": "python3"
  },
  "language_info": {
   "codemirror_mode": {
    "name": "ipython",
    "version": 3
   },
   "file_extension": ".py",
   "mimetype": "text/x-python",
   "name": "python",
   "nbconvert_exporter": "python",
   "pygments_lexer": "ipython3",
   "version": "3.10.18"
  }
 },
 "nbformat": 4,
 "nbformat_minor": 5
}
